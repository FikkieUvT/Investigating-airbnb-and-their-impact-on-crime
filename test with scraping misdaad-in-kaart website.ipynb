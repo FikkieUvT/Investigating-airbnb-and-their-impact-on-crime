{
 "cells": [
  {
   "cell_type": "markdown",
   "metadata": {},
   "source": [
    "#Test to see if we can get the data from misdaad-in-kaart which includes the home burglaries of the last 3 months in a list form on zip code.\n",
    "this set includes: \n",
    "- zipcode \n",
    "- date \n",
    "- type of burglary\n",
    "\n"
   ]
  },
  {
   "cell_type": "code",
   "execution_count": 1,
   "metadata": {},
   "outputs": [],
   "source": [
    "import requests \n",
    "from bs4 import BeautifulSoup\n",
    "\n",
    "soup = BeautifulSoup()\n",
    "\n",
    "\n",
    "url = \"https://www.politie.nl/mijn-buurt/misdaad-in-kaart/lijst?geoquery=Amsterdam%2C+Amsterdam%2C+Noord-Holland&distance=25.0&categorie=1&categorie=2&pageSize=500\"\n",
    "\n",
    "misdaad_request = requests.get(url)\n",
    "\n",
    "# return the source code from the request object\n",
    "misdaad_source_code = misdaad_request.text\n",
    "soup = BeautifulSoup(misdaad_source_code)\n",
    "\n",
    "\n"
   ]
  },
  {
   "cell_type": "code",
   "execution_count": 18,
   "metadata": {},
   "outputs": [
    {
     "name": "stdout",
     "output_type": "stream",
     "text": [
      "1011\n"
     ]
    }
   ],
   "source": [
    "print(soup.find('table').find_all(\"td\")[0].get_text())\n",
    "\n"
   ]
  }
 ],
 "metadata": {
  "interpreter": {
   "hash": "ab9ffe9977c2d5ccad1ced768f5ef52c41c57c2ab26c404c44aaeea0b24aef33"
  },
  "kernelspec": {
   "display_name": "Python 3.7.6 ('base')",
   "language": "python",
   "name": "python3"
  },
  "language_info": {
   "codemirror_mode": {
    "name": "ipython",
    "version": 3
   },
   "file_extension": ".py",
   "mimetype": "text/x-python",
   "name": "python",
   "nbconvert_exporter": "python",
   "pygments_lexer": "ipython3",
   "version": "3.7.6"
  },
  "orig_nbformat": 4
 },
 "nbformat": 4,
 "nbformat_minor": 2
}
