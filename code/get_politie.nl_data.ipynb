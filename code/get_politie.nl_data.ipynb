{
 "cells": [
  {
   "cell_type": "code",
   "execution_count": 8,
   "metadata": {},
   "outputs": [],
   "source": [
    "##need to do a pip install for the cbsodata\n",
    "##https://dataderden.cbs.nl/ODataApi/odata/47022NED \n",
    "##pip install cbsodata   -> https://pypi.org/project/cbsodata/\n",
    "\n",
    "import pandas as pd\n",
    "import cbsodata \n",
    "\n",
    "\n",
    "##change cataloge to politie.nl on module level\n",
    "cbsodata.options.catalog_url = 'dataderden.cbs.nl'"
   ]
  },
  {
   "cell_type": "code",
   "execution_count": null,
   "metadata": {},
   "outputs": [],
   "source": [
    "\n",
    "# list tables\n",
    "cbsodata.get_table_list()\n",
    "\n",
    "# Downloading table list\n",
    "toc = pd.DataFrame(cbsodata.get_table_list())\n",
    "\n",
    "#select the specific table needed for our analyses\n",
    "data_toc = toc.loc[toc[\"Identifier\"]  ==  \"47022NED\"] \n",
    "data_toc\n",
    "\n",
    "# Downloading metadata\n",
    "metadata = pd.DataFrame(cbsodata.get_meta('47022NED', 'DataProperties'))\n",
    "print(metadata[['Key','Title']])\n",
    "\n",
    "\n"
   ]
  },
  {
   "cell_type": "code",
   "execution_count": null,
   "metadata": {},
   "outputs": [],
   "source": [
    "#work in progres block "
   ]
  },
  {
   "cell_type": "markdown",
   "metadata": {},
   "source": []
  },
  {
   "cell_type": "code",
   "execution_count": null,
   "metadata": {},
   "outputs": [],
   "source": [
    "\n",
    "# Downloading a subset\n",
    "\n",
    "data = pd.DataFrame(\n",
    "        cbsodata.get_data('47022NED', \n",
    "                          filters=\"WijkenEnBuurten eq 'GM0363\",\n",
    "                          select=['WijkenEnBuurten', \"perioden\", \"SoortMisdrijf\"],\n",
    "                          dir=\"D:\\1. Studie\\Master files\\dPrep\\Git repo\\dPrep-Team-8-investigating-airbnb\\dPrep-Team-8-investigating-airbnb\\data\"))\n",
    "print(data.head())"
   ]
  },
  {
   "cell_type": "code",
   "execution_count": null,
   "metadata": {},
   "outputs": [],
   "source": [
    "\n",
    "# put data in pandas' dataframe\n",
    "pd_data = pd.DataFrame(data)\n",
    "pd_data.head()\n"
   ]
  }
 ],
 "metadata": {
  "interpreter": {
   "hash": "ab9ffe9977c2d5ccad1ced768f5ef52c41c57c2ab26c404c44aaeea0b24aef33"
  },
  "kernelspec": {
   "display_name": "Python 3.7.6 ('base')",
   "language": "python",
   "name": "python3"
  },
  "language_info": {
   "codemirror_mode": {
    "name": "ipython",
    "version": 3
   },
   "file_extension": ".py",
   "mimetype": "text/x-python",
   "name": "python",
   "nbconvert_exporter": "python",
   "pygments_lexer": "ipython3",
   "version": "3.7.6"
  },
  "orig_nbformat": 4
 },
 "nbformat": 4,
 "nbformat_minor": 2
}
