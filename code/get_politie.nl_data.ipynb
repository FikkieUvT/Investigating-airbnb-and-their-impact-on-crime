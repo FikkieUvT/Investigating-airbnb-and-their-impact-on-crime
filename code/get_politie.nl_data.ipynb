{
 "cells": [
  {
   "cell_type": "code",
   "execution_count": 6,
   "metadata": {},
   "outputs": [],
   "source": [
    "##need to do a pip install for the cbsodata\n",
    "##https://dataderden.cbs.nl/ODataApi/odata/47022NED "
   ]
  },
  {
   "cell_type": "code",
   "execution_count": null,
   "metadata": {},
   "outputs": [],
   "source": [
    "import pandas as pd\n",
    "import cbsodata \n",
    "\n",
    "# Downloading table list\n",
    "toc = pd.DataFrame(cbsodata.get_table_list())\n",
    "\n",
    "# Downloading entire dataset (can take up to 30s)\n",
    "data = pd.DataFrame(cbsodata.get_data('83765NED'))\n",
    "print(data.head())\n",
    "\n",
    "\n"
   ]
  },
  {
   "cell_type": "code",
   "execution_count": null,
   "metadata": {},
   "outputs": [],
   "source": [
    "\n",
    "# Downloading metadata\n",
    "metadata = pd.DataFrame(cbsodata.get_meta('83765NED', 'DataProperties'))\n",
    "print(metadata[['Key','Title']])\n"
   ]
  },
  {
   "cell_type": "code",
   "execution_count": null,
   "metadata": {},
   "outputs": [],
   "source": [
    "\n",
    "# Downloading a subset\n",
    "data = pd.DataFrame(\n",
    "        cbsodata.get_data('83765NED', \n",
    "                          filters=\"WijkenEnBuurten eq 'GM0363    '\",\n",
    "                          select=['WijkenEnBuurten','AantalInwoners_5']))\n",
    "print(data.head())"
   ]
  }
 ],
 "metadata": {
  "interpreter": {
   "hash": "ab9ffe9977c2d5ccad1ced768f5ef52c41c57c2ab26c404c44aaeea0b24aef33"
  },
  "kernelspec": {
   "display_name": "Python 3.7.6 ('base')",
   "language": "python",
   "name": "python3"
  },
  "language_info": {
   "codemirror_mode": {
    "name": "ipython",
    "version": 3
   },
   "file_extension": ".py",
   "mimetype": "text/x-python",
   "name": "python",
   "nbconvert_exporter": "python",
   "pygments_lexer": "ipython3",
   "version": "3.7.6"
  },
  "orig_nbformat": 4
 },
 "nbformat": 4,
 "nbformat_minor": 2
}
