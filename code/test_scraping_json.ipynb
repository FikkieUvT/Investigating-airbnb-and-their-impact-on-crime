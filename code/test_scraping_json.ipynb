{
 "cells": [
  {
   "cell_type": "code",
   "execution_count": null,
   "metadata": {},
   "outputs": [],
   "source": [
    "# import requests module\n",
    "import requests\n",
    "import json\n",
    "import pandas as pd\n",
    "\n",
    "# Making a get request\n",
    "response = requests.get('https://dataderden.cbs.nl/ODataApi/odata/47022NED/WijkenEnBuurten')\n",
    "\n",
    "# print response\n",
    "print(response)\n",
    "\n",
    "# print json content\n",
    "print(response.json())\n",
    "\n"
   ]
  },
  {
   "cell_type": "code",
   "execution_count": null,
   "metadata": {},
   "outputs": [],
   "source": [
    "testdata = json.load(response) "
   ]
  }
 ],
 "metadata": {
  "interpreter": {
   "hash": "ab9ffe9977c2d5ccad1ced768f5ef52c41c57c2ab26c404c44aaeea0b24aef33"
  },
  "kernelspec": {
   "display_name": "Python 3.7.6 ('base')",
   "language": "python",
   "name": "python3"
  },
  "language_info": {
   "codemirror_mode": {
    "name": "ipython",
    "version": 3
   },
   "file_extension": ".py",
   "mimetype": "text/x-python",
   "name": "python",
   "nbconvert_exporter": "python",
   "pygments_lexer": "ipython3",
   "version": "3.7.6"
  },
  "orig_nbformat": 4
 },
 "nbformat": 4,
 "nbformat_minor": 2
}
